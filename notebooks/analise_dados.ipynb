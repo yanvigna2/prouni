{
 "cells": [
  {
   "cell_type": "code",
   "execution_count": 14,
   "metadata": {},
   "outputs": [],
   "source": [
    "import pandas as pd\n",
    "import matplotlib.pyplot as plt\n",
    "import seaborn as sns\n",
    "\n",
    "# Caminho para o arquivo CSV\n",
    "dataset_prouni = '../data/raw/cursos-prouni.csv'\n",
    "\n",
    "# Carregar dados do dataset\n",
    "df = pd.read_csv(dataset_prouni)\n",
    "df.head()\n",
    "\n",
    "df.to_csv(\"../data/processed/cursos_prouni_limpo.csv\", index=False)"
   ]
  },
  {
   "cell_type": "code",
   "execution_count": 15,
   "metadata": {},
   "outputs": [
    {
     "name": "stdout",
     "output_type": "stream",
     "text": [
      "<class 'pandas.core.frame.DataFrame'>\n",
      "RangeIndex: 41447 entries, 0 to 41446\n",
      "Data columns (total 20 columns):\n",
      " #   Column                Non-Null Count  Dtype  \n",
      "---  ------                --------------  -----  \n",
      " 0   grau                  41447 non-null  object \n",
      " 1   turno                 41447 non-null  object \n",
      " 2   mensalidade           41447 non-null  float64\n",
      " 3   bolsa_integral_cotas  32520 non-null  float64\n",
      " 4   bolsa_integral_ampla  25404 non-null  float64\n",
      " 5   bolsa_parcial_cotas   8828 non-null   float64\n",
      " 6   bolsa_parcial_ampla   13041 non-null  float64\n",
      " 7   curso_id              41447 non-null  int64  \n",
      " 8   curso_busca           41447 non-null  object \n",
      " 9   cidade_busca          41447 non-null  object \n",
      " 10  uf_busca              41447 non-null  object \n",
      " 11  cidade_filtro         41447 non-null  object \n",
      " 12  universidade_nome     41447 non-null  object \n",
      " 13  campus_nome           41447 non-null  object \n",
      " 14  campus_id             41447 non-null  int64  \n",
      " 15  nome                  41447 non-null  object \n",
      " 16  nota_integral_ampla   32520 non-null  float64\n",
      " 17  nota_integral_cotas   16802 non-null  float64\n",
      " 18  nota_parcial_ampla    16350 non-null  float64\n",
      " 19  nota_parcial_cotas    5519 non-null   float64\n",
      "dtypes: float64(9), int64(2), object(9)\n",
      "memory usage: 6.3+ MB\n",
      "None\n"
     ]
    }
   ],
   "source": [
    "# Verificação dos tipos de dados\n",
    "print(df.info())"
   ]
  },
  {
   "cell_type": "code",
   "execution_count": 16,
   "metadata": {},
   "outputs": [
    {
     "name": "stdout",
     "output_type": "stream",
     "text": [
      "        mensalidade  bolsa_integral_cotas  bolsa_integral_ampla  \\\n",
      "count  41447.000000          32520.000000          25404.000000   \n",
      "mean     622.636966              1.535394              2.513541   \n",
      "std      606.442296              2.191578              3.019549   \n",
      "min      139.000000              0.000000              1.000000   \n",
      "25%      278.000000              0.000000              1.000000   \n",
      "50%      393.350000              1.000000              1.000000   \n",
      "75%      825.000000              2.000000              3.000000   \n",
      "max     9999.990000             58.000000             67.000000   \n",
      "\n",
      "       bolsa_parcial_cotas  bolsa_parcial_ampla      curso_id     campus_id  \\\n",
      "count          8828.000000         13041.000000  4.144700e+04  4.144700e+04   \n",
      "mean              1.873018             8.632544  4.207360e+13  6.786530e+05   \n",
      "std               2.336403            18.372991  6.061552e+13  6.398410e+05   \n",
      "min               1.000000             1.000000  2.248801e+07  2.240000e+02   \n",
      "25%               1.000000             1.000000  6.460131e+11  1.172300e+04   \n",
      "50%               1.000000             2.000000  2.003572e+12  6.587550e+05   \n",
      "75%               2.000000             6.000000  1.036636e+14  1.058794e+06   \n",
      "max              74.000000           350.000000  2.008632e+14  2.008633e+06   \n",
      "\n",
      "       nota_integral_ampla  nota_integral_cotas  nota_parcial_ampla  \\\n",
      "count         32520.000000         16802.000000        16350.000000   \n",
      "mean            575.982999           564.470439          527.517136   \n",
      "std              57.827594            57.869145           60.202170   \n",
      "min             450.000000           450.000000          450.000000   \n",
      "25%             544.360000           532.865000          453.980000   \n",
      "50%             580.740000           571.450000          532.420000   \n",
      "75%             614.145000           603.315000          573.235000   \n",
      "max             781.200000           792.240000          776.360000   \n",
      "\n",
      "       nota_parcial_cotas  \n",
      "count         5519.000000  \n",
      "mean           511.799638  \n",
      "std             56.787140  \n",
      "min            450.000000  \n",
      "25%            450.000000  \n",
      "50%            511.820000  \n",
      "75%            557.170000  \n",
      "max            768.340000  \n"
     ]
    }
   ],
   "source": [
    "# Estatísticas gerais\n",
    "print(df.describe())\n"
   ]
  },
  {
   "cell_type": "code",
   "execution_count": 17,
   "metadata": {},
   "outputs": [
    {
     "name": "stdout",
     "output_type": "stream",
     "text": [
      "grau                        0\n",
      "turno                       0\n",
      "mensalidade                 0\n",
      "bolsa_integral_cotas     8927\n",
      "bolsa_integral_ampla    16043\n",
      "bolsa_parcial_cotas     32619\n",
      "bolsa_parcial_ampla     28406\n",
      "curso_id                    0\n",
      "curso_busca                 0\n",
      "cidade_busca                0\n",
      "uf_busca                    0\n",
      "cidade_filtro               0\n",
      "universidade_nome           0\n",
      "campus_nome                 0\n",
      "campus_id                   0\n",
      "nome                        0\n",
      "nota_integral_ampla      8927\n",
      "nota_integral_cotas     24645\n",
      "nota_parcial_ampla      25097\n",
      "nota_parcial_cotas      35928\n",
      "dtype: int64\n"
     ]
    }
   ],
   "source": [
    "# Verificação da existência de valores nulos \n",
    "print(df.isnull().sum())"
   ]
  }
 ],
 "metadata": {
  "kernelspec": {
   "display_name": "meu_ambiente",
   "language": "python",
   "name": "python3"
  },
  "language_info": {
   "codemirror_mode": {
    "name": "ipython",
    "version": 3
   },
   "file_extension": ".py",
   "mimetype": "text/x-python",
   "name": "python",
   "nbconvert_exporter": "python",
   "pygments_lexer": "ipython3",
   "version": "3.8.20"
  }
 },
 "nbformat": 4,
 "nbformat_minor": 2
}
